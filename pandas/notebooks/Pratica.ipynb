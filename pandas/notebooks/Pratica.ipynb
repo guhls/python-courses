{
 "cells": [
  {
   "cell_type": "code",
   "execution_count": null,
   "id": "fd6183a0",
   "metadata": {},
   "outputs": [],
   "source": [
    "import pandas as pd"
   ]
  },
  {
   "cell_type": "code",
   "execution_count": null,
   "id": "c549982a",
   "metadata": {},
   "outputs": [],
   "source": [
    "import ipdb"
   ]
  },
  {
   "cell_type": "code",
   "execution_count": null,
   "id": "1285c420",
   "metadata": {},
   "outputs": [],
   "source": [
    "pokemon = pd.read_csv(\"pokemon.csv\", usecols=[\"Pokemon\"], squeeze=True)\n",
    "pokemon"
   ]
  },
  {
   "cell_type": "code",
   "execution_count": null,
   "id": "66b9dcc9",
   "metadata": {},
   "outputs": [],
   "source": [
    "pd.Series(pokemon, index=[32])"
   ]
  },
  {
   "cell_type": "code",
   "execution_count": null,
   "id": "c9d581df",
   "metadata": {},
   "outputs": [],
   "source": [
    "def pokemons(sequencia):\n",
    "    for select in sequencia:\n",
    "        poke = pd.Series(pokemon, index=[select])\n",
    "        print(poke)\n",
    "\n",
    "list_1 = [15, 67, 155, 566, 677, 699]\n",
    "pokemons(list_1)"
   ]
  },
  {
   "cell_type": "code",
   "execution_count": null,
   "id": "f249c218",
   "metadata": {},
   "outputs": [],
   "source": [
    "def palindromo(string):\n",
    "    new_string = \"\"\n",
    "    reverse_string = \"\"\n",
    "    \n",
    "    ipdb.set_trace()\n",
    "    for letter in string:\n",
    "        if letter != \" \":\n",
    "            new_string += letter\n",
    "            reverse_string = letter + reverse_string  \n",
    "    \n",
    "    if new_string.lower() == reverse_string.lower():\n",
    "        return True\n",
    "    else:\n",
    "        return False\n",
    "    \n",
    "palindromo(\"Renner\")"
   ]
  },
  {
   "cell_type": "code",
   "execution_count": null,
   "id": "afc0faa7",
   "metadata": {},
   "outputs": [],
   "source": []
  }
 ],
 "metadata": {
  "kernelspec": {
   "display_name": "Python 3 (ipykernel)",
   "language": "python",
   "name": "python3"
  },
  "language_info": {
   "codemirror_mode": {
    "name": "ipython",
    "version": 3
   },
   "file_extension": ".py",
   "mimetype": "text/x-python",
   "name": "python",
   "nbconvert_exporter": "python",
   "pygments_lexer": "ipython3",
   "version": "3.9.7"
  }
 },
 "nbformat": 4,
 "nbformat_minor": 5
}
