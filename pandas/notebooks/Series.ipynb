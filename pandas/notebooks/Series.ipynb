{
 "cells": [
  {
   "cell_type": "code",
   "execution_count": 1,
   "id": "361821a6",
   "metadata": {},
   "outputs": [],
   "source": [
    "import pandas as pd"
   ]
  },
  {
   "cell_type": "markdown",
   "id": "2ee7b637",
   "metadata": {},
   "source": [
    "# 1 - Create A Series Object from A Python List "
   ]
  },
  {
   "cell_type": "code",
   "execution_count": null,
   "id": "bc9ba975",
   "metadata": {},
   "outputs": [],
   "source": [
    "ice_cream = [\"Chocolate\", \"Vanilla\", \"Strawberry\", \"Rum Raisin\"]\n",
    "\n",
    "pd.Series(ice_cream)"
   ]
  },
  {
   "cell_type": "code",
   "execution_count": null,
   "id": "9049bb23",
   "metadata": {},
   "outputs": [],
   "source": [
    "loterry = [3, 9, 11, 14, 23, 45]\n",
    "\n",
    "pd.Series(loterry)"
   ]
  },
  {
   "cell_type": "code",
   "execution_count": null,
   "id": "fefe0f01",
   "metadata": {},
   "outputs": [],
   "source": [
    "registations = [True, False, False, False, True]\n",
    "\n",
    "pd.Series(registations)"
   ]
  },
  {
   "cell_type": "markdown",
   "id": "0bb76093",
   "metadata": {},
   "source": [
    "# 2 - Create A Series Object from a Dictionary"
   ]
  },
  {
   "cell_type": "code",
   "execution_count": null,
   "id": "33045243",
   "metadata": {},
   "outputs": [],
   "source": [
    "webster = {\"Aardvark\" : \"An animal\",\n",
    "           \"Banana\" : \" A Delicious fruit\",\n",
    "           \"Cyan\" : \"A color\"}\n",
    "\n",
    "web = pd.Series(webster)"
   ]
  },
  {
   "cell_type": "markdown",
   "id": "35718b86",
   "metadata": {},
   "source": [
    "# Exercise 1"
   ]
  },
  {
   "cell_type": "code",
   "execution_count": null,
   "id": "457232a9",
   "metadata": {},
   "outputs": [],
   "source": [
    "###############################################################\n",
    "# DO NOT DELETE THIS CODE. IT IS NEEDED FOR THE TESTS TO RUN. #\n",
    "from unittest.mock import MagicMock                           #\n",
    "import pandas as pd                                           #\n",
    "pd.Series = MagicMock()                                       #\n",
    "###############################################################\n",
    "\n",
    "# Assume the pandas library has already been imported and assigned\n",
    "# the alias \"pd\".\n",
    "\n",
    "# Create a list with 4 countries - United States, France, Germany, Italy\n",
    "# Create a new Series by passing in the list of countries\n",
    "# Assign the Series to a \"countries\" variable\n",
    "countries_list = [\"Unites States\", \"France\", Germany]\n",
    "countries = pd.Series(countries_list)\n",
    "\n",
    "# Create a list with 3 colors - red, green, blue\n",
    "# Create a new Series by passing in the list of colors\n",
    "# Assign the Series to a \"colors\" variable\n",
    "colors_list = [\"red\", \"green\", \"blue\"]\n",
    "colors = pd.Series(colors_list)\n",
    "\n",
    "# Given the \"recipe\" dictionary below,\n",
    "# create a new Series by passing in the dictionary as the data source\n",
    "# Assign the resulting Series to a \"series_dict\" variable\n",
    "recipe = {\n",
    "  \"Flour\": True,\n",
    "  \"Sugar\": True,\n",
    "  \"Salt\": False\n",
    "}\n",
    "series_dict = pd.Series(recipe)"
   ]
  },
  {
   "cell_type": "markdown",
   "id": "7245d654",
   "metadata": {},
   "source": [
    "# Intro a Attributes"
   ]
  },
  {
   "cell_type": "code",
   "execution_count": null,
   "id": "aff1a312",
   "metadata": {},
   "outputs": [],
   "source": [
    "about_me = [\"Smart\", \"Handsome\", \"Charming\", \"Brilliant\", \"Humble\"]\n",
    "s = pd.Series(about_me)\n",
    "s"
   ]
  },
  {
   "cell_type": "code",
   "execution_count": null,
   "id": "a1192b0c",
   "metadata": {},
   "outputs": [],
   "source": [
    "s.values"
   ]
  },
  {
   "cell_type": "code",
   "execution_count": null,
   "id": "7f4d8dfd",
   "metadata": {},
   "outputs": [],
   "source": [
    "s.index"
   ]
  },
  {
   "cell_type": "code",
   "execution_count": null,
   "id": "3d06dd8a",
   "metadata": {},
   "outputs": [],
   "source": [
    "s.dtype"
   ]
  },
  {
   "cell_type": "markdown",
   "id": "25e7e194",
   "metadata": {},
   "source": [
    "# Intro a Methods"
   ]
  },
  {
   "cell_type": "code",
   "execution_count": null,
   "id": "ad016dba",
   "metadata": {},
   "outputs": [],
   "source": [
    "prices = [2.99, 4.45, 1.36]\n",
    "s = pd.Series(prices)\n",
    "s"
   ]
  },
  {
   "cell_type": "code",
   "execution_count": null,
   "id": "4f12ceed",
   "metadata": {},
   "outputs": [],
   "source": [
    "s.sum()"
   ]
  },
  {
   "cell_type": "markdown",
   "id": "a8d77711",
   "metadata": {},
   "source": [
    "É preciso colocar () ao final de <strong>Methods</strong> porque ele está construindo, fazendo algum tipo de operação, tipo de calculo por exemplo, ele faz algo, ao contrário de <strong>Attributes</strong> que apenas trazem o valor"
   ]
  },
  {
   "cell_type": "code",
   "execution_count": null,
   "id": "f94251dd",
   "metadata": {},
   "outputs": [],
   "source": [
    "s.product()"
   ]
  },
  {
   "cell_type": "code",
   "execution_count": null,
   "id": "5bb705d3",
   "metadata": {},
   "outputs": [],
   "source": [
    "s.mean()"
   ]
  },
  {
   "cell_type": "markdown",
   "id": "37a00317",
   "metadata": {},
   "source": [
    "# Parameters and Arguments"
   ]
  },
  {
   "cell_type": "code",
   "execution_count": null,
   "id": "ec6614a3",
   "metadata": {},
   "outputs": [],
   "source": [
    "# Difficulty - Easy, Medium, Hard\n",
    "## Difficulty na programação seria o paramether e a escolha seria os argument\n",
    "\n",
    "# Volume - 1 through 10\n",
    "# Subtitles - True / False"
   ]
  },
  {
   "cell_type": "code",
   "execution_count": null,
   "id": "73cdb01d",
   "metadata": {},
   "outputs": [],
   "source": [
    "fruits = [\"Apple\", \"Orange\", \"Plum\", \"Grape\", \"Blueberry\"]\n",
    "weekdays = [\"Monday\", \"Tuesday\", \"Wednesday\", \"Thursday\", \"Friday\"]\n",
    "\n",
    "pd.Series(fruits, weekdays) # se segurar shift e apertar tab mostrara a doc do parameter\n",
    "pd.Series(data = fruits, index = weekdays)\n",
    "pd.Series(fruits, index=weekdays)"
   ]
  },
  {
   "cell_type": "markdown",
   "id": "8b8f2cab",
   "metadata": {},
   "source": [
    "# Import Series with the read_csv Method"
   ]
  },
  {
   "cell_type": "code",
   "execution_count": null,
   "id": "3587bb07",
   "metadata": {},
   "outputs": [],
   "source": [
    "pokemon = pd.read_csv(\"pokemon.csv\", usecols=[\"Pokemon\"], squeeze=True)\n",
    "pokemon"
   ]
  },
  {
   "cell_type": "markdown",
   "id": "a1c451e0",
   "metadata": {},
   "source": [
    "Data frames são usados para amarzenar mais de uma coluna, e Series apenas uma"
   ]
  },
  {
   "cell_type": "raw",
   "id": "cc23fff8",
   "metadata": {},
   "source": [
    "google = pd.read_csv(\"google_stock_price.csv\", squeeze=True)\n",
    "google "
   ]
  },
  {
   "cell_type": "markdown",
   "id": "68df22be",
   "metadata": {},
   "source": [
    "# Exercise 2"
   ]
  },
  {
   "cell_type": "code",
   "execution_count": null,
   "id": "bf77ce38",
   "metadata": {},
   "outputs": [],
   "source": [
    "###############################################################\n",
    "# DO NOT DELETE THIS CODE. IT IS NEEDED FOR THE TESTS TO RUN. #\n",
    "from unittest.mock import MagicMock                           #\n",
    "import pandas as pd                                           #\n",
    "pd.read_csv = MagicMock(spec = pd.read_csv)                   #\n",
    "###############################################################\n",
    "\n",
    "# Assume the pandas library has already been imported and assigned the alias \"pd\".\n",
    "\n",
    "# Let's say we have a foods.csv CSV file with 3 columns: Item Number, Menu Item, Price\n",
    "# The raw CSV data looks like this:\n",
    "#\n",
    "# Item Number,Menu Item,Price\n",
    "# 1,Big Mac,4.99\n",
    "# 2,McNuggets,7.99\n",
    "# 3,Quarter Pounder,3.99\n",
    "#\n",
    "# Import the CSV file into a Pandas Series object\n",
    "# The Series should have the standard Pandas numeric index\n",
    "# The Series values should be the string values from the \"Menu Item\" column\n",
    "# Assign the Series object to a \"foods\" variable\n",
    "\n",
    "foods = pd.read_csv(\"foods.csv\", usecols=[\"Menu Item\"], squeeze=True)"
   ]
  },
  {
   "cell_type": "markdown",
   "id": "e8bc3d74",
   "metadata": {},
   "source": [
    "# The .head() and .tail() Methods"
   ]
  },
  {
   "cell_type": "code",
   "execution_count": 2,
   "id": "2cad47b8",
   "metadata": {},
   "outputs": [],
   "source": [
    "pokemon = pd.read_csv(\"pokemon.csv\", usecols=[\"Pokemon\"], squeeze=True)\n",
    "google = pd.read_csv(\"google_stock_price.csv\", squeeze=True)"
   ]
  },
  {
   "cell_type": "code",
   "execution_count": 5,
   "id": "fe2b40cb",
   "metadata": {},
   "outputs": [
    {
     "data": {
      "text/plain": [
       "0    Bulbasaur\n",
       "Name: Pokemon, dtype: object"
      ]
     },
     "execution_count": 5,
     "metadata": {},
     "output_type": "execute_result"
    }
   ],
   "source": [
    "pokemon.head(1)"
   ]
  },
  {
   "cell_type": "code",
   "execution_count": 6,
   "id": "887c7e6f",
   "metadata": {},
   "outputs": [
    {
     "data": {
      "text/plain": [
       "3011    782.22\n",
       "Name: Stock Price, dtype: float64"
      ]
     },
     "execution_count": 6,
     "metadata": {},
     "output_type": "execute_result"
    }
   ],
   "source": [
    "google.tail(1)"
   ]
  },
  {
   "cell_type": "code",
   "execution_count": null,
   "id": "f37f6532",
   "metadata": {},
   "outputs": [],
   "source": []
  }
 ],
 "metadata": {
  "kernelspec": {
   "display_name": "Python 3 (ipykernel)",
   "language": "python",
   "name": "python3"
  },
  "language_info": {
   "codemirror_mode": {
    "name": "ipython",
    "version": 3
   },
   "file_extension": ".py",
   "mimetype": "text/x-python",
   "name": "python",
   "nbconvert_exporter": "python",
   "pygments_lexer": "ipython3",
   "version": "3.9.7"
  }
 },
 "nbformat": 4,
 "nbformat_minor": 5
}
