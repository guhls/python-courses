{
 "cells": [
  {
   "cell_type": "markdown",
   "source": [
    "# Criar um script para verificar qual usuario esta logado na maquina"
   ],
   "metadata": {}
  },
  {
   "cell_type": "markdown",
   "source": [],
   "metadata": {}
  }
 ],
 "metadata": {
  "orig_nbformat": 4,
  "language_info": {
   "name": "python"
  }
 },
 "nbformat": 4,
 "nbformat_minor": 2
}