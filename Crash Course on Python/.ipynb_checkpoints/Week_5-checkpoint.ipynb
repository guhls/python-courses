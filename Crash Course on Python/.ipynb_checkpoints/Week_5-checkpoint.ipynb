{
 "cells": [
  {
   "cell_type": "markdown",
   "metadata": {},
   "source": [
    "# <font color= #0C88F0>Week 5 - Object Oriented Programming</font>\n",
    "\n",
    "- In this module, you'll be introduced to the concept of object-oriented programming! You'll learn how to build your own classes with unique attributes and methods. You'll get a chance to write documentation for your classes and methods using docstrings. You'll learn all about object instances and object inheritance, as well as how to import and use Python modules to make use of powerful classes and methods. To round things out, you'll also be introduced to Jupyter notebooks, which we'll use to write and execute more complex code.\n",
    "\n",
    "\n",
    "## **Objetivos de aprendizagem** \n",
    "- Demonstrate object-oriented programming using classes and objects\n",
    "- Implement classes with custom attributes and methods\n",
    "- Write docstrings to document classes and methods\n",
    "- Leverage inheritance to reduce code duplication\n",
    "- Import and use Python modules to access powerful classes and methods\n",
    "\n"
   ]
  },
  {
   "cell_type": "markdown",
   "metadata": {},
   "source": [
    "## <h1><font color=#D40D12>Object-oriented Programming - Module</font></h1>"
   ]
  },
  {
   "cell_type": "markdown",
   "metadata": {},
   "source": [
    "### <h2><font color=#fbbc05>OOP Introduction - Video</font></h2>\n"
   ]
  },
  {
   "cell_type": "markdown",
   "metadata": {},
   "source": [
    "#### <h2><font color = #34a853>Object-oriented programming</font></h2>\n",
    "\n",
    "- <font size = 3em>A way of thinking and implementing our code</font>\n",
    "\n"
   ]
  },
  {
   "cell_type": "markdown",
   "metadata": {},
   "source": [
    "### <h2><font color=#fbbc05>What is Object-oriented programming? - Video</font></h2>"
   ]
  },
  {
   "cell_type": "markdown",
   "metadata": {},
   "source": [
    "#### <h2><font color = #34a853>Object-oriented programming</font></h2>\n",
    "\n",
    "- <font size = 3em>A flexible, powerful paradigm where classes represent and define concepts, while objects are instances of classes</font>\n",
    "***\n",
    "- <font size = 3em>The attributes are the characteristics associated to a type</font>\n",
    "\n",
    "- <font size = 3em>The methods are the functions associated to a type</font>\n",
    "- > <font size = 3em>A method defines what you do with an object</font>"
   ]
  },
  {
   "cell_type": "markdown",
   "metadata": {},
   "source": [
    "### <h2><font color=#fbbc05>Object-Oriented Programming Defined - Leitura</font></h2>"
   ]
  },
  {
   "cell_type": "markdown",
   "metadata": {},
   "source": [
    "#### <h2><font color = #34a853>Defined</font></h2>\n",
    "In object-oriented programming, concepts are modeled as classes and objects. An idea is defined using a class, and an instance of this class is called an object. Almost everything in Python is an object, including strings, lists, dictionaries, and numbers. When we create a list in Python, we’re creating an object which is an instance of the list class, which represents the concept of a list. Classes also have attributes and methods associated with them. Attributes are the characteristics of the class, while methods are functions that are part of the class."
   ]
  },
  {
   "cell_type": "markdown",
   "metadata": {},
   "source": [
    "### <h2><font color=#fbbc05>Classes and Objects in Detail - Leitura</font></h2>\n"
   ]
  },
  {
   "cell_type": "markdown",
   "metadata": {},
   "source": [
    "#### <h2><font color = #34a853>Defined</font></h2>\n",
    "We can use the type() function to figure out what class a variable or value belongs to. For example, type(\" \") tells us that this is a string class. The only attribute in this case is the string value, but there are a bunch of methods associated with the class. We've seen the upper() method, which returns the string in all uppercase, as well as isnumeric() which returns a boolean telling us whether or not the string is a number. You can use the dir() function to print all the attributes and methods of an object. Each string is an instance of the string class, having the same methods of the parent class. Since the content of the string is different, the methods will return different values. You can also use the help() function on an object, which will return the documentation for the corresponding class. This will show all the methods for the class, along with parameters the methods receive, types of return values, and a description of the methods."
   ]
  },
  {
   "cell_type": "markdown",
   "metadata": {},
   "source": [
    "### <h2><font color=#fbbc05>Classes and Objects in Python - Video</font></h2>"
   ]
  },
  {
   "cell_type": "code",
   "execution_count": null,
   "metadata": {},
   "outputs": [],
   "source": [
    "dir(\"\")"
   ]
  },
  {
   "cell_type": "code",
   "execution_count": null,
   "metadata": {},
   "outputs": [],
   "source": [
    "help(\"\")"
   ]
  },
  {
   "cell_type": "markdown",
   "metadata": {},
   "source": [
    "#### <h2><font color = #34a853>Questionar</font></h2>"
   ]
  },
  {
   "cell_type": "markdown",
   "metadata": {},
   "source": [
    "You want to find more information about the integer (int) class. What’s the best way to do this?\n",
    "\n",
    "\n",
    "Use the command help(int)\n",
    "\n",
    "\n",
    "Use the command type(int)\n",
    "\n",
    "\n",
    "Type ‘q’\n",
    "\n",
    "\n",
    "Use the len() function\n",
    "\n",
    "Correto\n",
    "Nailed it! Using the help command can be useful for finding quick documentation about the methods in a class."
   ]
  },
  {
   "cell_type": "markdown",
   "metadata": {},
   "source": [
    "### <h2><font color=#fbbc05>Defining New Classes - Video</font></h2>"
   ]
  },
  {
   "cell_type": "code",
   "execution_count": null,
   "metadata": {},
   "outputs": [],
   "source": [
    "class Apple:\n",
    "    pass\n",
    "\n",
    "class Apple:\n",
    "    color = \"\"\n",
    "    flavor = \"\"\n",
    "\n",
    "jonagold = Apple()\n",
    "# É feita uma instancia, um objeto recebe uma classe chamando-a como function\n",
    "jonagold.color = \"red\"\n",
    "jonagold.flavor = \"sweet\"\n",
    "\n",
    "print(jonagold.color, jonagold.flavor) #red sweet\n",
    "print(jonagold.color.upper()) #RED \n",
    "\n",
    "golden = Apple()\n",
    "golden.color = \"Yellow\"\n",
    "golden.flavor = \"Soft\""
   ]
  },
  {
   "cell_type": "markdown",
   "metadata": {},
   "source": [
    "#### <h2><font color = #34a853>Dot notation</font></h2>"
   ]
  },
  {
   "cell_type": "markdown",
   "metadata": {},
   "source": [
    "Lets you acesses any of the abilities the object might have (called metgods) or information it might store (called attributes)"
   ]
  },
  {
   "cell_type": "markdown",
   "metadata": {},
   "source": [
    "#### <h2><font color = #34a853>Questionar</font></h2>"
   ]
  },
  {
   "cell_type": "code",
   "execution_count": null,
   "metadata": {},
   "outputs": [],
   "source": [
    "class Flower:\n",
    "  color = 'unknown'\n",
    "\n",
    "rose = Flower()\n",
    "rose.color = \"red\"\n",
    "\n",
    "violet = Flower()\n",
    "violet.color = \"blue\"\n",
    "\n",
    "this_pun_is_for_you = \"i have got 5 fingers and the midle one for you\"\n",
    "\n",
    "print(\"Roses are {},\".format(rose.color))\n",
    "print(\"violets are {},\".format(violet.color))\n",
    "print(this_pun_is_for_you) "
   ]
  },
  {
   "cell_type": "markdown",
   "metadata": {},
   "source": [
    "### <h2><font color=#fbbc05>Defining Classes - Leitura</font></h2>"
   ]
  },
  {
   "cell_type": "markdown",
   "metadata": {},
   "source": [
    "We can create and define our classes in Python similar to how we define functions. We start with the class keyword, followed by the name of our class and a colon. Python style guidelines recommend class names to start with a capital letter. After the class definition line is the class body, indented to the right. Inside the class body, we can define attributes for the class.\n",
    "\n",
    "Let's take our Apple class example:\n",
    "\n",
    "class Apple:\n",
    "\n",
    "color = \"\"\n",
    "\n",
    "flavor = \"\"\n",
    "\n",
    "We can create a new instance of our new class by assigning it to a variable. This is done by calling the class name as if it were a function. We can set the attributes of our class instance by accessing them using dot notation. Dot notation can be used to set or retrieve object attributes, as well as call methods associated with the class.\n",
    "\n",
    " jonagold = Apple()\n",
    "\n",
    " jonagold.color = \"red\"\n",
    "\n",
    " jonagold.flavor = \"sweet\"\n",
    " \n",
    "We created an Apple instance called jonagold, and set the color and flavor attributes for this Apple object. We can create another instance of an Apple and set different attributes to differentiate between two different varieties of apples.\n",
    "\n",
    " golden = Apple()\n",
    "\n",
    " golden.color = \"Yellow\"\n",
    "\n",
    " golden.flavor = \"Soft\"\n",
    "\n",
    "We now have another Apple object called golden that also has color and flavor attributes. But these attributes have different values."
   ]
  },
  {
   "cell_type": "markdown",
   "metadata": {},
   "source": [
    "### <h2><font color=#fbbc05>Quiz: Object-oriented Programming</font></h2>"
   ]
  },
  {
   "cell_type": "markdown",
   "metadata": {},
   "source": [
    "1. Let’s test your knowledge of using dot notation to access methods and attributes in an object. Let’s say we have a class called Birds. Birds has two attributes: color and number. Birds also has a method called count() that counts the number of birds (adds a value to number). Which of the following lines of code will correctly print the number of birds? Keep in mind, the number of birds is 0 until they are counted!\n",
    "\n",
    "- bluejay.number = 0\n",
    "print(bluejay.number)\n",
    "\n",
    "- print(bluejay.number.count())\n",
    "\n",
    "- bluejay.count()\n",
    "print(bluejay.number)\n",
    "\n",
    "- print(bluejay.number)\n"
   ]
  },
  {
   "cell_type": "markdown",
   "metadata": {},
   "source": [
    "2. Creating new instances of class objects can be a great way to keep track of values using attributes associated with the object. The values of these attributes can be easily changed at the object level.  The following code illustrates a famous quote by George Bernard Shaw, using objects to represent people. Fill in the blanks to make the code satisfy the behavior described in the quote. "
   ]
  },
  {
   "cell_type": "code",
   "execution_count": null,
   "metadata": {},
   "outputs": [],
   "source": [
    "\"\"\"# “If you have an apple and I have an apple and we exchange these apples then\"\"\"\n",
    "# you and I will still each have one apple. But if you have an idea and I have\n",
    "# an idea and we exchange these ideas, then each of us will have two ideas.”\n",
    "# George Bernard Shaw\n",
    "\n",
    "class Person:\n",
    "    apples = 0\n",
    "    ideas = 0\n",
    "\n",
    "johanna = Person()\n",
    "johanna.apples = 1\n",
    "johanna.ideas = 1\n",
    "\n",
    "martin = Person()\n",
    "martin.apples = 2\n",
    "martin.ideas = 1\n",
    "\n",
    "def exchange_apples(you, me):\n",
    "#Here, despite G.B. Shaw's quote, our characters have started with       #different amounts of apples so we can better observe the results. \n",
    "#We're going to have Martin and Johanna exchange ALL their apples with #one another.\n",
    "#Hint: how would you switch values of variables, \n",
    "#so that \"you\" and \"me\" will exchange ALL their apples with one another?\n",
    "#Do you need a temporary variable to store one of the values?\n",
    "#You may need more than one line of code to do that, which is OK. \n",
    "    \tyou.apples, me.apples = me.apples, you.apples\n",
    "    \treturn you.apples, me.apples\n",
    "    \n",
    "def exchange_ideas(you, me):\n",
    "    #\"you\" and \"me\" will share our ideas with one another.\n",
    "    #What operations need to be performed, so that each object receives\n",
    "    #the shared number of ideas?\n",
    "    #Hint: how would you assign the total number of ideas to \n",
    "    #each idea attribute? Do you need a temporary variable to store \n",
    "    #the sum of ideas, or can you find another way? \n",
    "    #Use as many lines of code as you need here.\n",
    "    you.ideas += me.ideas\n",
    "    me.ideas = you.ideas\n",
    "    return you.ideas, me.ideas\n",
    "\n",
    "exchange_apples(johanna, martin)\n",
    "print(\"Johanna has {} apples and Martin has {} apples\".format(johanna.apples, martin.apples))\n",
    "exchange_ideas(johanna, martin)\n",
    "print(\"Johanna has {} ideas and Martin has {} ideas\".format(johanna.ideas, martin.ideas))"
   ]
  },
  {
   "cell_type": "markdown",
   "metadata": {},
   "source": [
    "3. The City class has the following attributes: name, country (where the city is located), elevation (measured in meters), and population (approximate, according to recent statistics). Fill in the blanks of the max_elevation_city function to return the name of the city and its country (separated by a comma), when comparing the 3 defined instances for a specified minimal population. For example, calling the function for a minimum population of 1 million: max_elevation_city(1000000) should return \"Sofia, Bulgaria\". "
   ]
  },
  {
   "cell_type": "code",
   "execution_count": null,
   "metadata": {},
   "outputs": [],
   "source": [
    "\"\"\"# define a basic city class\"\"\"\n",
    "class City:\n",
    "\tname = \"\"\n",
    "\tcountry = \"\"\n",
    "\televation = 0 \n",
    "\tpopulation = 0\n",
    "\n",
    "# create a new instance of the City class and\n",
    "# define each attribute\n",
    "city1 = City()\n",
    "city1.name = \"Cusco\"\n",
    "city1.country = \"Peru\"\n",
    "city1.elevation = 3399\n",
    "city1.population = 358052\n",
    "\n",
    "# create a new instance of the City class and\n",
    "# define each attribute\n",
    "city2 = City()\n",
    "city2.name = \"Sofia\"\n",
    "city2.country = \"Bulgaria\"\n",
    "city2.elevation = 2290\n",
    "city2.population = 1241675\n",
    "\n",
    "# create a new instance of the City class and\n",
    "# define each attribute\n",
    "city3 = City()\n",
    "city3.name = \"Seoul\"\n",
    "city3.country = \"South Korea\"\n",
    "city3.elevation = 38\n",
    "city3.population = 9733509\n",
    "\n",
    "def max_elevation_city(min_population):\n",
    "\t# Initialize the variable that will hold \n",
    "# the information of the city with \n",
    "# the highest elevation \n",
    "\treturn_city = City()\n",
    "\n",
    "\t# Evaluate the 1st instance to meet the requirements:\n",
    "\t# does city #1 have at least min_population and\n",
    "\t# is its elevation the highest evaluated so far?\n",
    "\tif (city1.population > min_population) and (city1.elevation > return_city.elevation):\n",
    "\t\treturn_city = city1\n",
    "\t# Evaluate the 2nd instance to meet the requirements:\n",
    "\t# does city #2 have at least min_population and\n",
    "\t# is its elevation the highest evaluated so far?\n",
    "\tif (city2.population > min_population) and (city2.elevation > return_city.elevation):\n",
    "\t\treturn_city = city2\n",
    "\t# Evaluate the 3rd instance to meet the requirements:\n",
    "\t# does city #3 have at least min_population and\n",
    "\t# is its elevation the highest evaluated so far?\n",
    "\tif (city3.population > min_population) and (city3.elevation > return_city.elevation):\n",
    "\t\treturn_city = city3\n",
    "\n",
    "\t#Format the return string\n",
    "\tif return_city.name:\n",
    "\t\treturn return_city.name, return_city.country\n",
    "\telse:\n",
    "\t\treturn \"\"\n",
    "\n",
    "print(max_elevation_city(100000)) # Should print \"Cusco, Peru\"\n",
    "print(max_elevation_city(1000000)) # Should print \"Sofia, Bulgaria\"\n",
    "print(max_elevation_city(10000000)) # Should print \"\""
   ]
  },
  {
   "cell_type": "markdown",
   "metadata": {},
   "source": [
    "4. What makes an object different from a class?\n",
    "\n",
    "\n",
    "- An object represents and defines a concept\n",
    "\n",
    "\n",
    "- An object is a specific instance of a class\n",
    "\n",
    "\n",
    "- An object is a template for a class\n",
    "\n",
    "\n",
    "- Objects don't have accessible variables"
   ]
  },
  {
   "cell_type": "markdown",
   "metadata": {},
   "source": [
    "5. We have two pieces of furniture: a brown wood table and a red leather couch. Fill in the blanks following the creation of each Furniture class instance, so that the describe_furniture function can format a sentence that describes these pieces as follows: \"This piece of furniture is made of {color} {material}\""
   ]
  },
  {
   "cell_type": "code",
   "execution_count": null,
   "metadata": {},
   "outputs": [],
   "source": [
    "class Furniture:\n",
    "\tcolor = \"\"\n",
    "\tmaterial = \"\"\n",
    "\n",
    "table = Furniture()\n",
    "table.color = \"brown\"\n",
    "table.material = \"wood\"\n",
    "\n",
    "couch = Furniture()\n",
    "couch.color = \"red\"\n",
    "couch.material = \"leather\"\n",
    "\n",
    "def describe_furniture(piece):\n",
    "\treturn (\"This piece of furniture is made of {} {}\".format(piece.color, piece.material))\n",
    "\n",
    "print(describe_furniture(table)) \n",
    "# Should be \"This piece of furniture is made of brown wood\"\n",
    "print(describe_furniture(couch)) \n",
    "# Should be \"This piece of furniture is made of red leather\""
   ]
  },
  {
   "cell_type": "markdown",
   "metadata": {},
   "source": [
    "## <h1><font color=#D40D12>Classes and Methods - Module</font></h1>"
   ]
  },
  {
   "cell_type": "markdown",
   "metadata": {},
   "source": [
    "### <h2><font color=#fbbc05>Instance Methods - Video</font></h2>\n"
   ]
  },
  {
   "cell_type": "markdown",
   "metadata": {},
   "source": [
    "* ####  <h2><font color = #34a853>Methods</font></h2>\n",
    "\n",
    "- <font size = 3em>Functions that operate on the attributes of a specific instance of a class</font>\n",
    "\n"
   ]
  },
  {
   "cell_type": "code",
   "execution_count": null,
   "metadata": {},
   "outputs": [],
   "source": [
    "class Piglet:\n",
    "    pass\n",
    "\n",
    "hamlet = Piglet()"
   ]
  },
  {
   "cell_type": "code",
   "execution_count": null,
   "metadata": {},
   "outputs": [],
   "source": [
    "class Piglet:\n",
    "    def speak(self):\n",
    "        print(\"oink oink\")\n",
    "\n",
    "hamlet = Piglet()\n",
    "hamlet.speak()\n",
    "\n",
    "# You can see here that we start defining a method with the def keyword just like we would for a function, and see how the line with the def keyword is indented to the right inside the Piglet class? That's how we define a function as a method of the class. This function is receiving a parameter called self. This parameter represents the instance that the method is being executed on. Let's try this out and see what happens."
   ]
  },
  {
   "cell_type": "code",
   "execution_count": null,
   "metadata": {},
   "outputs": [],
   "source": [
    "class Piglet:\n",
    "    name = \"piglet\"\n",
    "    def speak(self):\n",
    "        print(\"Oink! I'm {}! Oink!\".format(self.name))\n",
    "\n",
    "hamlet = Piglet()\n",
    "hamlet.name = \"Hamlet\"\n",
    "hamlet.speak()"
   ]
  },
  {
   "cell_type": "code",
   "execution_count": null,
   "metadata": {},
   "outputs": [],
   "source": [
    "class Piglet:\n",
    "    years = 0\n",
    "    def pig_years(self):\n",
    "        return self.years * 18\n",
    "\n",
    "piggy = Piglet()\n",
    "print(piggy.pig_years()) # 0\n",
    "\n",
    "piggy.years = 2\n",
    "print(piggy.pig_years()) # 36\n"
   ]
  },
  {
   "cell_type": "markdown",
   "metadata": {},
   "source": [
    "#### <h2><font color = #34a853>Questionar</font></h2>"
   ]
  },
  {
   "cell_type": "code",
   "execution_count": null,
   "metadata": {},
   "outputs": [],
   "source": [
    "class Dog:\n",
    "  years = 0\n",
    "  def dog_years(self):\n",
    "   return 7 * self.years\n",
    "    \n",
    "fido=Dog()\n",
    "fido.years=3\n",
    "print(fido.dog_years())"
   ]
  },
  {
   "cell_type": "markdown",
   "metadata": {},
   "source": [
    "### <h2><font color=#fbbc05>Constructors and Other Special Methods - Video</font></h2>\n"
   ]
  },
  {
   "cell_type": "code",
   "execution_count": null,
   "metadata": {},
   "outputs": [],
   "source": [
    "class Apple:\n",
    "    def __init__(self, color, flavor):\n",
    "        self.color = color\n",
    "        self.flavor = flavor\n",
    "\n",
    "jonagold = Apple(\"red\", \"sweet\")\n",
    "print(jonagold.color) #red\n",
    "\n",
    "# The constructor of the class is the method that's called when you call the name of the class. It's always named init. You might remember that all methods that start and end with two underscores are special methods. Here, we've defined a constructor, one very important special method. This method on top of the self variable that represents the instance receives two more parameters: color and flavor. Then the method sets those values as the values of the current instance."
   ]
  },
  {
   "cell_type": "markdown",
   "metadata": {},
   "source": [
    "#### <h2><font color = #34a853>Questionar</font></h2>"
   ]
  },
  {
   "cell_type": "code",
   "execution_count": null,
   "metadata": {},
   "outputs": [],
   "source": [
    "class Person:\n",
    "    def __init__(self, name):\n",
    "        self.name = name\n",
    "    def greeting(self):\n",
    "        # Should return \"hi, my name is \" followed by the name of the Person.\n",
    "        return \"hi, my name is {}\".format(self.name) \n",
    "\n",
    "# Create a new instance with a name of your choice\n",
    "some_person = Person(\"Gustavo\")  \n",
    "# Call the greeting method\n",
    "print(some_person.greeting()) # hi, my name is Gustavo"
   ]
  },
  {
   "cell_type": "code",
   "execution_count": null,
   "metadata": {},
   "outputs": [],
   "source": [
    "class Apple:\n",
    "    def __init__(self, color, flavor):\n",
    "        self.color = color\n",
    "        self.flavor = flavor\n",
    "    def __str__(self):\n",
    "        return \"This apple is {} and its flavor is {}\".format(self.color, self.flavor)\n",
    "\n",
    "jonagold = Apple(\"red\", \"sweet\")\n",
    "print(jonagold)\n",
    "\n",
    "# By defining the special STR method, we're telling Python that we want it to display when the print function is called with an instance of our class."
   ]
  },
  {
   "cell_type": "markdown",
   "metadata": {},
   "source": [
    "### <h2><font color=#fbbc05>Special Methods - Leitura</font></h2>\n"
   ]
  },
  {
   "cell_type": "markdown",
   "metadata": {},
   "source": [
    "\n",
    "- #### <h2><font color = #34a853>Special Methods\n",
    "</font></h2>\n",
    "Instead of creating classes with empty or default values, we can set these values when we create the instance. This ensures that we don't miss an important value and avoids a lot of unnecessary lines of code. To do this, we use a special method called a constructor. Below is an example of an Apple class with a constructor method defined."
   ]
  },
  {
   "cell_type": "code",
   "execution_count": null,
   "metadata": {},
   "outputs": [],
   "source": [
    "class Apple:\n",
    "    def __init__(self, color, flavor):\n",
    "        self.color = color\n",
    "        self.flavor = flavor"
   ]
  },
  {
   "cell_type": "markdown",
   "metadata": {},
   "source": [
    "When you call the name of a class, the constructor of that class is called. This constructor method is always named __init__. You might remember that special methods start and end with two underscore characters. In our example above, the constructor method takes the self variable, which represents the instance, as well as color and flavor parameters. These parameters are then used by the constructor method to set the values for the current instance. So we can now create a new instance of the Apple class and set the color and flavor values all in go:"
   ]
  },
  {
   "cell_type": "code",
   "execution_count": null,
   "metadata": {},
   "outputs": [],
   "source": [
    "jonagold = Apple(\"red\", \"sweet\")\n",
    "print(jonagold.color) #red"
   ]
  },
  {
   "cell_type": "markdown",
   "metadata": {},
   "source": [
    "In addition to the __init__ constructor special method, there is also the __str__ special method. This method allows us to define how an instance of an object will be printed when it’s passed to the print() function. If an object doesn’t have this special method defined, it will wind up using the default representation, which will print the position of the object in memory. Not super useful. Here is our Apple class, with the __str__ method added:"
   ]
  },
  {
   "cell_type": "code",
   "execution_count": null,
   "metadata": {},
   "outputs": [],
   "source": [
    "class Apple:\n",
    "    def __init__(self, color, flavor):\n",
    "        self.color = color\n",
    "        self.flavor = flavor\n",
    "    def __str__(self):\n",
    "        return \"This apple is {} and its flavor is {}\".format(self.color, self.flavor)"
   ]
  },
  {
   "cell_type": "markdown",
   "metadata": {},
   "source": [
    "Now, when we pass an Apple object to the print function, we get a nice formatted string:"
   ]
  },
  {
   "cell_type": "code",
   "execution_count": null,
   "metadata": {},
   "outputs": [],
   "source": [
    "jonagold = Apple(\"red\", \"sweet\")\n",
    "print(jonagold) #This apple is red and its flavor is sweet\n"
   ]
  },
  {
   "cell_type": "markdown",
   "metadata": {},
   "source": [
    "This apple is red and its flavor is sweet\n",
    "\n",
    "It's good practice to think about how your class might be used and to define a __str__ method when creating objects that you may want to print later."
   ]
  },
  {
   "cell_type": "markdown",
   "metadata": {},
   "source": [
    "### <h2><font color=#fbbc05>Documenting with Docstrings - Leitura</font></h2>\n"
   ]
  },
  {
   "cell_type": "markdown",
   "metadata": {},
   "source": [
    "The Python help function can be super helpful for easily pulling up documentation for classes and methods. We can call the help function on one of our classes, which will return some basic info about the methods defined in our class:"
   ]
  },
  {
   "cell_type": "code",
   "execution_count": null,
   "metadata": {},
   "outputs": [],
   "source": [
    "class Apple:\n",
    "    def __init__(self, color, flavor):\n",
    "        self.color = color\n",
    "        self.flavor = flavor\n",
    "    def __str__(self):\n",
    "         return \"This apple is {} and its flavor is {}\".format(self.color, self.flavor)\n",
    " \n",
    "help(Apple)\n",
    "#Help on class Apple in module __main__:\n",
    "\n",
    "#class Apple(builtins.object)\n",
    "# |  Methods defined here:\n",
    "# |  \n",
    "# |  __init__(self, color, flavor)\n",
    "# |      Initialize self.  See help(type(self)) for accurate signature.\n",
    "# |  \n",
    "# |  __str__(self)\n",
    "# |      Return str(self).\n",
    "# |  \n",
    "# |  ----------------------------------------------------------------------\n",
    "# |  Data descriptors defined here:\n",
    "# |  \n",
    "# |  __dict__\n",
    "# |      dictionary for instance variables (if defined)\n",
    "# |  \n",
    "# |  __weakref__\n",
    "# |      list of weak references to the object (if defined)"
   ]
  },
  {
   "cell_type": "markdown",
   "metadata": {},
   "source": [
    "We can add documentation to our own classes, methods, and functions using docstrings. A docstring is a short text explanation of what something does. You can add a docstring to a method, function, or class by first defining it, then adding a description inside triple quotes. Let's take the example of this function:"
   ]
  },
  {
   "cell_type": "code",
   "execution_count": null,
   "metadata": {},
   "outputs": [],
   "source": [
    "def to_seconds(hours, minutes, seconds):\n",
    "    \"\"\"Returns the amount of seconds in the given hours, minutes and seconds.\"\"\"\n",
    "    return hours*3600+minutes*60+seconds"
   ]
  },
  {
   "cell_type": "markdown",
   "metadata": {},
   "source": [
    "We have our function called to_seconds on the first line, followed by the docstring which is indented to the right and wrapped in triple quotes. Last up is the function body. Now, when we call the help function on our to_seconds function, we get a handy description of what the function does:"
   ]
  },
  {
   "cell_type": "code",
   "execution_count": null,
   "metadata": {},
   "outputs": [],
   "source": [
    "help(to_seconds)\n",
    "#Help on function to_seconds in module __main__:\n",
    "\n",
    "#to_seconds(hours, minutes, seconds)\n",
    "#    Returns the amount of seconds in the given hours, minutes and seconds."
   ]
  },
  {
   "cell_type": "markdown",
   "metadata": {},
   "source": [
    "Docstrings are super useful for documenting our custom classes, methods, and functions, but also when working with new libraries or functions. You'll be extremely grateful for docstrings when you have to work with code that someone else wrote!"
   ]
  },
  {
   "cell_type": "markdown",
   "metadata": {},
   "source": [
    "### <h2><font color=#fbbc05>Classes and Methods Cheat Sheet - Leitura</font></h2>\n"
   ]
  },
  {
   "cell_type": "markdown",
   "metadata": {},
   "source": [
    "\n",
    "- #### <h2><font color = #34a853>Classes and Methods Cheat Sheet</font></h2>\n",
    "In the past few videos, we’ve seen how to define classes and methods in Python. Here, you’ll find a run-down of everything we’ve covered, so you can refer to it whenever you need a refresher."
   ]
  },
  {
   "cell_type": "markdown",
   "metadata": {},
   "source": [
    "- #### <h2><font color = #34a853>Defining classes and methods</font></h2>"
   ]
  },
  {
   "cell_type": "markdown",
   "metadata": {},
   "source": [
    "> class ClassName:<br>\n",
    ">>     def method_name(self, other_parameters):\n",
    ">>>        body_of_method"
   ]
  },
  {
   "cell_type": "markdown",
   "metadata": {},
   "source": [
    "- #### <h2><font color = #34a853>Classes and Instances</font></h2>\n",
    "\n",
    "- Classes define the behavior of all instances of a specific class.\n",
    "\n",
    "- Each variable of a specific class is an instance or object.\n",
    "\n",
    "- Objects can have attributes, which store information about the object.\n",
    "\n",
    "- You can make objects do work by calling their methods.\n",
    "\n",
    "- The first parameter of the methods (self) represents the current instance.\n",
    "\n",
    "- Methods are just like functions, but they can only be used through a class."
   ]
  },
  {
   "cell_type": "markdown",
   "metadata": {},
   "source": [
    "- #### <h2><font color = #34a853>Special methods</font></h2>\n",
    "\n",
    "- Special methods start and end with __.\n",
    "\n",
    "- Special methods have specific names, like __init__ for the constructor or __str__ for the conversion to string."
   ]
  },
  {
   "cell_type": "markdown",
   "metadata": {},
   "source": [
    "- #### <h2><font color = #34a853>Documenting classes, methods and functions</font></h2>\n",
    "\n",
    "- You can add documentation to classes, methods, and functions by using docstrings right after the definition. Like this:\n"
   ]
  },
  {
   "cell_type": "code",
   "execution_count": null,
   "metadata": {},
   "outputs": [],
   "source": [
    "#Definindo variaveis para o Python não reclamar\n",
    "body_of_method = \"\"\n",
    "body_of_function = \"\"\n",
    "\n",
    "class ClassName:\n",
    "    \"\"\"Documentation for the class.\"\"\"\n",
    "    def method_name(self, other_parameters):\n",
    "        \"\"\"Documentation for the method.\"\"\"\n",
    "        body_of_method\n",
    "        \n",
    "def function_name(parameters):\n",
    "    \"\"\"Documentation for the function.\"\"\"\n",
    "    body_of_function"
   ]
  },
  {
   "cell_type": "markdown",
   "metadata": {},
   "source": [
    "## <h1><font color=#D40D12>Code Reuse - Module</font></h1>"
   ]
  },
  {
   "cell_type": "markdown",
   "metadata": {},
   "source": [
    "### <h2><font color=#fbbc05>Inheritance - Video</font></h2>\n"
   ]
  },
  {
   "cell_type": "code",
   "execution_count": null,
   "metadata": {},
   "outputs": [],
   "source": [
    "class Fruit:\n",
    "    def __init__(self, color, flavor):\n",
    "        self.color = color\n",
    "        self.flavor = flavor\n",
    "\n",
    "class Apple(Fruit):\n",
    "    pass\n",
    "\n",
    "class Grape(Fruit):\n",
    "    pass\n",
    "\n",
    "granny_smith = Apple(\"green\", \"tart\")\n",
    "carnelian = Grape(\"purple\", \"sweet\")\n",
    "\n",
    "print(granny_smith.flavor) # tart\n",
    "print(carnelian.color) # purple"
   ]
  },
  {
   "cell_type": "markdown",
   "metadata": {},
   "source": [
    "The principle of inheritance let's a programmer build relationships between concepts and group them together. In particular, this allows us to reduce code duplication by generalizing our code<br><br>\n",
    "For example, how could we develop our apple representation to include other types of fruit, too? Well, one thing we know about an apple is that it's a fruit. So we could define a separate fruit class."
   ]
  },
  {
   "cell_type": "code",
   "execution_count": null,
   "metadata": {},
   "outputs": [],
   "source": [
    "class Animal:\n",
    "    sound = \"\"\n",
    "    def __init__(self, name):\n",
    "        self.name = name\n",
    "    def speak(self):\n",
    "        print(\"{sound} I'm {name}! {sound}\".format(name=self.name, sound=self.sound))\n",
    "\n",
    "class Piglet(Animal):\n",
    "    sound = \"Oink!\"\n",
    "\n",
    "hamlet = Piglet(\"Hamlet\")\n",
    "hamlet.speak()\n",
    "\n",
    "class Cow(Animal):\n",
    "    sound = \"Mooo\"\n",
    "\n",
    "milky = Cow(\"Milky White\")\n",
    "milky.speak()"
   ]
  },
  {
   "cell_type": "markdown",
   "metadata": {},
   "source": [
    "#### <h2><font color = #34a853>Questionar</font></h2>"
   ]
  },
  {
   "cell_type": "code",
   "execution_count": null,
   "metadata": {},
   "outputs": [],
   "source": [
    "class Clothing:\n",
    "  material = \"\"\n",
    "  def __init__(self,name):\n",
    "    self.name = name\n",
    "  def checkmaterial(self):\n",
    "\t  print(\"This {} is made of {}\".format(self.name,self.material))\n",
    "\t\t\t\n",
    "class Shirt(Clothing):\n",
    "  material=\"Cotton\"\n",
    "\n",
    "polo = Shirt(\"Polo\")\n",
    "polo.checkmaterial()"
   ]
  },
  {
   "cell_type": "markdown",
   "metadata": {},
   "source": [
    "### <h2><font color=#fbbc05>Object Inheritance - Leitura</font></h2>"
   ]
  },
  {
   "cell_type": "markdown",
   "metadata": {},
   "source": [
    "In object-oriented programming, the concept of inheritance allows you to build relationships between objects, grouping together similar concepts and reducing code duplication. Let's create a custom Fruit class with color and flavor attributes:"
   ]
  },
  {
   "cell_type": "code",
   "execution_count": null,
   "metadata": {},
   "outputs": [],
   "source": [
    "class Fruit:\n",
    "    def __init__(self, color, flavor):\n",
    "        self.color = color\n",
    "        self.flavor = flavor"
   ]
  },
  {
   "cell_type": "markdown",
   "metadata": {},
   "source": [
    "We defined a Fruit class with a constructor for color and flavor attributes. Next, we'll define an Apple class along with a new Grape class, both of which we want to inherit properties and behaviors from the Fruit class:"
   ]
  },
  {
   "cell_type": "code",
   "execution_count": null,
   "metadata": {},
   "outputs": [],
   "source": [
    "class Apple(Fruit):\n",
    "    pass\n",
    " \n",
    "class Grape(Fruit):\n",
    "    pass"
   ]
  },
  {
   "cell_type": "markdown",
   "metadata": {},
   "source": [
    "In Python, we use parentheses in the class declaration to have the class inherit from the Fruit class. So in this example, we’re instructing our computer that both the Apple class and Grape class inherit from the Fruit class. This means that they both have the same constructor method which sets the color and flavor attributes. We can now create instances of our Apple and Grape classes:"
   ]
  },
  {
   "cell_type": "code",
   "execution_count": null,
   "metadata": {},
   "outputs": [],
   "source": [
    "granny_smith = Apple(\"green\", \"tart\")\n",
    "carnelian = Grape(\"purple\", \"sweet\")\n",
    "print(granny_smith.flavor) #tart\n",
    "print(carnelian.color) #purple"
   ]
  },
  {
   "cell_type": "markdown",
   "metadata": {},
   "source": [
    "Inheritance allows us to define attributes or methods that are shared by all types of fruit without having to define them in each fruit class individually. We can then also define specific attributes or methods that are only relevant for a specific type of fruit. Let's look at another example, this time with animals:"
   ]
  },
  {
   "cell_type": "code",
   "execution_count": null,
   "metadata": {},
   "outputs": [],
   "source": [
    "class Animal:\n",
    "    sound = \"\"\n",
    "    def __init__(self, name):\n",
    "        self.name = name\n",
    "    def speak(self):\n",
    "        print(\"{sound} I'm {name}! {sound}\".format(\n",
    "            name=self.name, sound=self.sound))\n",
    "\n",
    "class Piglet(Animal):\n",
    "    sound = \"Oink!\"\n",
    "\n",
    "class Cow(Animal):\n",
    "    sound = \"Moooo\""
   ]
  },
  {
   "cell_type": "markdown",
   "metadata": {},
   "source": [
    "We defined a parent class, Animal, with two animal types inheriting from that class: Piglet and Cow. The parent Animal class has an attribute to store the sound the animal makes, and the constructor class takes the name that will be assigned to the instance when it's created. There is also the speak method, which will print the name of the animal along with the sound it makes. We defined the Piglet and Cow classes, which inherit from the Animal class, and we set the sound attributes for each animal type. Now, we can create instances of our Piglet and Cow classes and have them speak:"
   ]
  },
  {
   "cell_type": "code",
   "execution_count": null,
   "metadata": {},
   "outputs": [],
   "source": [
    "hamlet = Piglet(\"Hamlet\")\n",
    "hamlet.speak()\n",
    "# Oink! I'm Hamlet! Oink!\n",
    " \n",
    "class Cow(Animal):\n",
    "    sound = \"Moooo\"\n",
    "\n",
    "milky = Cow(\"Milky White\")\n",
    "milky.speak()\n",
    "# Moooo I'm Milky White! Moooo"
   ]
  },
  {
   "cell_type": "markdown",
   "metadata": {},
   "source": [
    "We create instances of both the Piglet and Cow class, and set the names for our instances. Then we call the speak method of each instance, which results in the formatted string being printed; it includes the sound the animal type makes, along with the instance name we assigned."
   ]
  },
  {
   "cell_type": "markdown",
   "metadata": {},
   "source": [
    "### <h2><font color=#fbbc05>Composition - Video</font></h2>"
   ]
  },
  {
   "cell_type": "code",
   "execution_count": null,
   "metadata": {},
   "outputs": [],
   "source": [
    "class Repository:\n",
    "    def __init__(self):\n",
    "        self.packages = {}\n",
    "    def add_package(self, package):\n",
    "        self.packages[package.name] = package\n",
    "    def total_size(self):\n",
    "        result = 0\n",
    "        for package in self.packages.values():\n",
    "            result += package.size\n",
    "        return result"
   ]
  },
  {
   "cell_type": "markdown",
   "metadata": {},
   "source": [
    "#### <h2><font color = #34a853>Questionar</font></h2>"
   ]
  },
  {
   "cell_type": "code",
   "execution_count": null,
   "metadata": {},
   "outputs": [],
   "source": [
    "class Clothing:\n",
    "  stock={ 'name': [],'material' :[], 'amount':[]}\n",
    "  def __init__(self,name):\n",
    "    material = \"\"\n",
    "    self.name = name\n",
    "  def add_item(self, name, material, amount):\n",
    "    Clothing.stock['name'].append(self.name)\n",
    "    Clothing.stock['material'].append(self.material)\n",
    "    Clothing.stock['amount'].append(amount)\n",
    "  def Stock_by_Material(self, material):\n",
    "    count=0\n",
    "    n=0\n",
    "    for item in Clothing.stock['material']:\n",
    "      if item == material:\n",
    "        count += Clothing.stock['amount'][n]\n",
    "        n+=1\n",
    "    return count\n",
    "\n",
    "class shirt(Clothing):\n",
    "  material=\"Cotton\"\n",
    "class pants(Clothing):\n",
    "  material=\"Cotton\"\n",
    "  \n",
    "polo = shirt(\"Polo\")\n",
    "sweatpants = pants(\"Sweatpants\")\n",
    "polo.add_item(polo.name, polo.material, 4)\n",
    "sweatpants.add_item(sweatpants.name, sweatpants.material, 6)\n",
    "current_stock = polo.Stock_by_Material(\"Cotton\")\n",
    "print(current_stock)"
   ]
  },
  {
   "cell_type": "markdown",
   "metadata": {},
   "source": [
    "### <h2><font color=#fbbc05>Object Composition - Leitura</font></h2>"
   ]
  },
  {
   "cell_type": "markdown",
   "metadata": {},
   "source": [
    "You can have a situation where two different classes are related, but there is no inheritance going on. This is referred to as composition -- where one class makes use of code contained in another class. For example, imagine we have a Package class which represents a software package. It contains attributes about the software package, like name, version, and size. We also have a Repository class which represents all the packages available for installation. While there’s no inheritance relationship between the two classes, they are related. The Repository class will contain a dictionary or list of Packages that are contained in the repository. Let's take a look at an example Repository class definition:"
   ]
  },
  {
   "cell_type": "code",
   "execution_count": null,
   "metadata": {},
   "outputs": [],
   "source": [
    "class Repository:\n",
    "     def __init__(self):\n",
    "         self.packages = {}\n",
    "     def add_package(self, package):\n",
    "         self.packages[package.name] = package\n",
    "     def total_size(self):\n",
    "         result = 0\n",
    "         for package in self.packages.values():\n",
    "             result += package.size\n",
    "         return result"
   ]
  },
  {
   "cell_type": "markdown",
   "metadata": {},
   "source": [
    "In the constructor method, we initialize the packages dictionary, which will contain the package objects available in this repository instance. We initialize the dictionary in the constructor to ensure that every instance of the Repository class has its own dictionary.\n",
    "\n",
    "We then define the add_package method, which takes a Package object as a parameter, and then adds it to our dictionary, using the package name attribute as the key.\n",
    "\n",
    "Finally, we define a total_size method which computes the total size of all packages contained in our repository. This method iterates through the values in our repository dictionary and adds together the size attributes from each package object contained in the dictionary, returning the total at the end. In this example, we’re making use of Package attributes within our Repository class. We’re also calling the values() method on our packages dictionary instance. Composition allows us to use objects as attributes, as well as access all their attributes and methods."
   ]
  },
  {
   "cell_type": "markdown",
   "metadata": {},
   "source": [
    "### <h2><font color=#fbbc05>Python Modules - Video</font></h2>"
   ]
  },
  {
   "cell_type": "code",
   "execution_count": null,
   "metadata": {},
   "outputs": [],
   "source": [
    "import random\n",
    "random.randint(1, 10)"
   ]
  },
  {
   "cell_type": "code",
   "execution_count": null,
   "metadata": {},
   "outputs": [],
   "source": [
    "import datetime\n",
    "now = datetime.datetime.now()\n",
    "type(now) # datetime.datetime\n",
    "\n",
    "print(now) # 2021-09-22 20:02:57.197118\n",
    "now.year # 2021\n",
    "\n",
    "print(now + datetime.timedelta(days=28)) # 2021-10-20 20:07:01.427737"
   ]
  },
  {
   "cell_type": "markdown",
   "metadata": {},
   "source": [
    "### <h2><font color=#fbbc05>Augmenting Python with Modules - Leitura</font></h2>"
   ]
  },
  {
   "cell_type": "markdown",
   "metadata": {},
   "source": [
    "Python modules are separate files that contain classes, functions, and other data that allow us to import and make use of these methods and classes in our own code. Python comes with a lot of modules out of the box. These modules are referred to as the Python Standard Library. You can make use of these modules by using the import keyword, followed by the module name. For example, we'll import the random module, and then call the randint function within this module:"
   ]
  },
  {
   "cell_type": "code",
   "execution_count": null,
   "metadata": {},
   "outputs": [],
   "source": [
    "import random\n",
    "random.randint(1,10) # 8\n",
    "random.randint(1,10) # 7\n",
    "random.randint(1,10) # 1"
   ]
  },
  {
   "cell_type": "markdown",
   "metadata": {},
   "source": [
    "This function takes two integer parameters and returns a random integer between the values we pass it; in this case, 1 and 10. You might notice that calling functions in a module is very similar to calling methods in a class. We use dot notation here too, with a period between the module and function names.\n",
    "\n",
    "Let's take a look at another module: datetime. This module is super helpful when working with dates and times."
   ]
  },
  {
   "cell_type": "code",
   "execution_count": null,
   "metadata": {},
   "outputs": [],
   "source": [
    "import datetime\n",
    "now = datetime.datetime.now()\n",
    "type(now)\n",
    "# <class 'datetime.datetime'>\n",
    "print(now)\n",
    "# 2019-04-24 16:54:55.155199"
   ]
  },
  {
   "cell_type": "markdown",
   "metadata": {},
   "source": [
    "First, we import the module. Next, we call the now() method which belongs to the datetime class contained within the datetime module. This method generates an instance of the datetime class for the current date and time. This instance has some methods which we can call:"
   ]
  },
  {
   "cell_type": "code",
   "execution_count": null,
   "metadata": {},
   "outputs": [],
   "source": [
    "print(now)\n",
    "# 2019-04-24 16:54:55.155199\n",
    "now.year\n",
    "#2019\n",
    "print(now + datetime.timedelta(days=28))\n",
    "# 2019-05-22 16:54:55.155199"
   ]
  },
  {
   "cell_type": "markdown",
   "metadata": {},
   "source": [
    "When we call the print function with an instance of the datetime class, we get the date and time printed in a specific format. This is because the datetime class has a __str__ method defined which generates the formatted string we see here. We can also directly call attributes and methods of the class, as with now.year which returns the year attribute of the instance.\n",
    "\n",
    "Lastly, we can access other classes contained in the datetime module, like the timedelta class. In this example, we’re creating an instance of the timedelta class with the parameter of 28 days. We’re then adding this object to our instance of the datetime class from earlier and printing the result. This has the effect of adding 28 days to our original datetime object."
   ]
  }
 ],
 "metadata": {
  "interpreter": {
   "hash": "397704579725e15f5c7cb49fe5f0341eb7531c82d19f2c29d197e8b64ab5776b"
  },
  "kernelspec": {
   "display_name": "Python 3 (ipykernel)",
   "language": "python",
   "name": "python3"
  },
  "language_info": {
   "codemirror_mode": {
    "name": "ipython",
    "version": 3
   },
   "file_extension": ".py",
   "mimetype": "text/x-python",
   "name": "python",
   "nbconvert_exporter": "python",
   "pygments_lexer": "ipython3",
   "version": "3.9.7"
  }
 },
 "nbformat": 4,
 "nbformat_minor": 2
}
