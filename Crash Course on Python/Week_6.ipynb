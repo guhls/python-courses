{
 "cells": [
  {
   "cell_type": "code",
   "execution_count": null,
   "source": [
    "numbers = [4, 6, 2, 7, 1]\n",
    "numbers.sort()\n",
    "print(numbers) # [1, 2, 4, 6, 7]\n",
    "\n",
    "names = [\"Carlos\", \"Ray\", \"Alex\", \"Kelly\"]\n",
    "print(names) # ['Carlos', 'Ray', 'Alex', 'Kelly']\n",
    "\n",
    "print(sorted(names)) # ['Alex', 'Carlos', 'Kelly', 'Ray']\n",
    "\n",
    "print(names) # ['Carlos', 'Ray', 'Alex', 'Kelly']\n",
    "\n",
    "print(sorted(names, key=len)) # ['Ray', 'Alex', 'Kelly', 'Carlos']"
   ],
   "outputs": [],
   "metadata": {}
  }
 ],
 "metadata": {
  "orig_nbformat": 4,
  "language_info": {
   "name": "python",
   "version": "3.8.10",
   "mimetype": "text/x-python",
   "codemirror_mode": {
    "name": "ipython",
    "version": 3
   },
   "pygments_lexer": "ipython3",
   "nbconvert_exporter": "python",
   "file_extension": ".py"
  },
  "kernelspec": {
   "name": "python3",
   "display_name": "Python 3.8.10 64-bit"
  },
  "interpreter": {
   "hash": "aee8b7b246df8f9039afb4144a1f6fd8d2ca17a180786b69acc140d282b71a49"
  }
 },
 "nbformat": 4,
 "nbformat_minor": 2
}